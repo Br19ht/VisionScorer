{
  "cells": [
    {
      "cell_type": "markdown",
      "source": [
        "# Setting Envrionments and Aquiring Data"
      ],
      "metadata": {
        "id": "ZQ7aozsxcajI"
      }
    },
    {
      "cell_type": "code",
      "execution_count": null,
      "metadata": {
        "id": "4zzAg0GVqiY8"
      },
      "outputs": [],
      "source": [
        "!nvidia-smi\n",
        "!pip install roboflow\n",
        "!pip install ultralytics\n",
        "from ultralytics import YOLO\n",
        "from roboflow import Roboflow\n",
        "import os, random\n",
        "from IPython.display import display, Image\n",
        "import ultralytics\n",
        "import glob\n",
        "from moviepy.editor import *\n",
        "import yaml"
      ]
    },
    {
      "cell_type": "code",
      "execution_count": null,
      "metadata": {
        "id": "LyNodf6grscj"
      },
      "outputs": [],
      "source": [
        "# Loading Dataset A\n",
        "\n",
        "# Security breach here, but for your convineicence I will leave my API key open.\n",
        "# Will be closed after the grading!\n",
        "rf = Roboflow(api_key=\"Ek2vKP2jbMY6qenMh678\")\n",
        "project = rf.workspace(\"visionscorer\").project(\"bigger-dataset\")\n",
        "version = project.version(2)\n",
        "dataset = version.download(\"yolov11\")"
      ]
    },
    {
      "cell_type": "code",
      "execution_count": null,
      "metadata": {
        "id": "t7Da4IQrB8gH"
      },
      "outputs": [],
      "source": [
        "# Loading Dataset B\n",
        "\n",
        "# Security breach here, but for your convineicence I will leave my API key open.\n",
        "# Will be closed after the grading!\n",
        "rf = Roboflow(api_key=\"Ek2vKP2jbMY6qenMh678\")\n",
        "project = rf.workspace(\"visionscorer\").project(\"basketball-players-fy4c2-rzrjr\")\n",
        "version = project.version(1)\n",
        "dataset = version.download(\"yolov11\")"
      ]
    },
    {
      "cell_type": "code",
      "execution_count": null,
      "metadata": {
        "id": "GGc8fhw8RV6v"
      },
      "outputs": [],
      "source": [
        "'''\n",
        "\n",
        "# Uncomment this section, if you want to try finetuning your\n",
        "# own model with different settings, such as different epochs and imgsz\n",
        "\n",
        "# If you decide to do so, don't forget to change directory of the models on the coding blocks below.\n",
        "\n",
        "\n",
        "# Using smaller dataset ('Basketball-Players-1') with setting below took 5 minutes to run on Google Colab.\n",
        "!yolo task=detect mode=train model=yolo11n.pt data=/content/Basketball-Players-1/data.yaml epochs=100 imgsz=640\n",
        "\n",
        "# Using bigger dataset ('Bigger-Dataset-2') with setting below took 20 minutes to run on Google Colab.\n",
        "!yolo task=detect mode=train model=yolo11n.pt data=/content/Bigger-Dataset-2/data.yaml epochs=20 imgsz=640\n",
        "\n",
        "'''"
      ]
    },
    {
      "cell_type": "code",
      "execution_count": null,
      "metadata": {
        "id": "0sFyp2rGDO7C"
      },
      "outputs": [],
      "source": [
        "# Obtaining the fine-tuned model from project github.\n",
        "\n",
        "# b_best: Epochs = 20, Image Size = 640\n",
        "!wget https://raw.githubusercontent.com/Br19ht/VisionScorer/main/b_best.pt\n",
        "# s_best: Epochs = 100, Image Size = 640\n",
        "!wget https://raw.githubusercontent.com/Br19ht/VisionScorer/main/s_best.pt"
      ]
    },
    {
      "cell_type": "markdown",
      "source": [
        "# Model Validation"
      ],
      "metadata": {
        "id": "-Z1YxARwc4Jd"
      }
    },
    {
      "cell_type": "code",
      "execution_count": null,
      "metadata": {
        "id": "3wlpV8toETYS"
      },
      "outputs": [],
      "source": [
        "# Validation results with validation set, for b_best.pt model with Dataset A\n",
        "!yolo task=detect mode=val model=/content/b_best.pt data=/content/Bigger-Dataset-2/data.yaml"
      ]
    },
    {
      "cell_type": "code",
      "execution_count": null,
      "metadata": {
        "id": "gwh97IwJEj0p"
      },
      "outputs": [],
      "source": [
        "# Validation results with validation set, for s_best.pt model with Dataset B\n",
        "!yolo task=detect mode=val model=/content/s_best.pt data=/content/Basketball-Players-1/data.yaml"
      ]
    },
    {
      "cell_type": "markdown",
      "source": [
        "# Image Experiments"
      ],
      "metadata": {
        "id": "gx2gOQy_cWr-"
      }
    },
    {
      "cell_type": "code",
      "execution_count": null,
      "metadata": {
        "id": "LYMjAdjvzGMv"
      },
      "outputs": [],
      "source": [
        "# Object Detection on the testing split of the Dataset A. Contains 727 images.\n",
        "\n",
        "!yolo task=detect mode=predict model=/content/b_best.pt conf=0.5 source = /content/Bigger-Dataset-2/test/images data=/Bigger-Dataset-2/data.yaml"
      ]
    },
    {
      "cell_type": "code",
      "source": [
        "# Commands to change validation file path to be test set file path,\n",
        "# so that the model can validate the testing set results.\n",
        "\n",
        "with open(\"/content/Bigger-Dataset-2/data.yaml\") as f:\n",
        "     list_doc = yaml.safe_load(f)\n",
        "\n",
        "list_doc[\"val\"] = \"../test/images\"\n",
        "\n",
        "with open(\"/content/Bigger-Dataset-2/test-to-val-data.yaml\", \"w\") as f:\n",
        "    yaml.dump(list_doc, f)"
      ],
      "metadata": {
        "id": "QEi45NNgum8c"
      },
      "execution_count": 9,
      "outputs": []
    },
    {
      "cell_type": "code",
      "source": [
        "# Validation results with test set, for b_best.pt model with Dataset A\n",
        "\n",
        "!yolo task=detect mode=val model=/content/b_best.pt data=/content/Bigger-Dataset-2/test-to-val-data.yaml"
      ],
      "metadata": {
        "id": "rmghXPwpx-bF"
      },
      "execution_count": null,
      "outputs": []
    },
    {
      "cell_type": "code",
      "source": [
        "display(Image(filename='/content/runs/detect/val3/F1_curve.png'))"
      ],
      "metadata": {
        "id": "okdUUhO9hP8g"
      },
      "execution_count": null,
      "outputs": []
    },
    {
      "cell_type": "code",
      "source": [
        "display(Image(filename='/content/runs/detect/val3/PR_curve.png'))"
      ],
      "metadata": {
        "id": "cYS8PZFnidAV"
      },
      "execution_count": null,
      "outputs": []
    },
    {
      "cell_type": "code",
      "source": [
        "display(Image(filename='/content/runs/detect/val3/confusion_matrix.png'))"
      ],
      "metadata": {
        "id": "ILYBIyW6iiTV"
      },
      "execution_count": null,
      "outputs": []
    },
    {
      "cell_type": "code",
      "execution_count": null,
      "metadata": {
        "id": "Epr25UwbFW_e"
      },
      "outputs": [],
      "source": [
        "# Object Detection on the testing split of the Dataset B. Contains 24 images.\n",
        "\n",
        "!yolo task=detect mode=predict model=/content/s_best.pt conf=0.5 source = /content/Basketball-Players-1/test/images data=/Basketball-Players-1/data.yaml"
      ]
    },
    {
      "cell_type": "code",
      "source": [
        "# Commands to change validation file path to be test set file path,\n",
        "# so that the model can validate the testing set results.\n",
        "\n",
        "with open(\"/content/Basketball-Players-1/data.yaml\") as f:\n",
        "     list_doc = yaml.safe_load(f)\n",
        "\n",
        "list_doc[\"val\"] = \"../test/images\"\n",
        "\n",
        "with open(\"/content/Basketball-Players-1/test-to-val-data.yaml\", \"w\") as f:\n",
        "    yaml.dump(list_doc, f)"
      ],
      "metadata": {
        "id": "7kBv3BkMunai"
      },
      "execution_count": 15,
      "outputs": []
    },
    {
      "cell_type": "code",
      "source": [
        "# Validation results with test set, for s_best.pt model with Dataset B\n",
        "\n",
        "!yolo task=detect mode=val model=/content/s_best.pt data=/content/Basketball-Players-1/test-to-val-data.yaml"
      ],
      "metadata": {
        "id": "BJHz75QrykGs"
      },
      "execution_count": null,
      "outputs": []
    },
    {
      "cell_type": "code",
      "source": [
        "display(Image(filename='/content/runs/detect/val4/F1_curve.png'))"
      ],
      "metadata": {
        "id": "IzzDbgodinNv"
      },
      "execution_count": null,
      "outputs": []
    },
    {
      "cell_type": "code",
      "source": [
        "display(Image(filename='/content/runs/detect/val4/PR_curve.png'))"
      ],
      "metadata": {
        "id": "3wZDaissinqO"
      },
      "execution_count": null,
      "outputs": []
    },
    {
      "cell_type": "code",
      "source": [
        "display(Image(filename='/content/runs/detect/val4/confusion_matrix.png'))"
      ],
      "metadata": {
        "id": "P9EBdyJ2in-A"
      },
      "execution_count": null,
      "outputs": []
    },
    {
      "cell_type": "markdown",
      "source": [
        "# Image Experiment Results"
      ],
      "metadata": {
        "id": "UOtjFXlKc7xN"
      }
    },
    {
      "cell_type": "code",
      "execution_count": null,
      "metadata": {
        "id": "fADK-OTrzbuR"
      },
      "outputs": [],
      "source": [
        "# Displaying Random Pictures generated from the test set object detection tasks,\n",
        "# for b_best.pt model with Dataset A.\n",
        "\n",
        "# If you want to see more results, click the play button and see different images!\n",
        "\n",
        "for i in range(10):\n",
        "    img_path = os.path.join('/content/runs/detect/predict/', random.choice(os.listdir('/content/runs/detect/predict/')))\n",
        "    display(Image(filename=img_path))\n",
        "    print(\"\\n\")"
      ]
    },
    {
      "cell_type": "code",
      "execution_count": null,
      "metadata": {
        "id": "VzuV_7uxLE-L"
      },
      "outputs": [],
      "source": [
        "# Displaying Random Pictures generated from the test set object detection tasks,\n",
        "# for s_best.pt model with Dataset B.\n",
        "\n",
        "# If you want to see more results, click the play button and see different images!\n",
        "\n",
        "for i in range(10):\n",
        "    img_path = os.path.join('/content/runs/detect/predict2/', random.choice(os.listdir('/content/runs/detect/predict2/')))\n",
        "    display(Image(filename=img_path))\n",
        "    print(\"\\n\")"
      ]
    },
    {
      "cell_type": "markdown",
      "source": [
        "# Video Experiment"
      ],
      "metadata": {
        "id": "TJ_CZK2wdvBL"
      }
    },
    {
      "cell_type": "code",
      "execution_count": null,
      "metadata": {
        "id": "0DR5VNdoGSyb"
      },
      "outputs": [],
      "source": [
        "# Obtaining the 28 seconds video from project github.\n",
        "# Source: https://www.nba.com/lakers/videos/lebron-luka-austin-combine-for-85-points-and-defeat-memphis\n",
        "\n",
        "!wget https://raw.githubusercontent.com/Br19ht/VisionScorer/main/nba_vid.mp4"
      ]
    },
    {
      "cell_type": "code",
      "execution_count": null,
      "metadata": {
        "id": "_OOjB9wmjkwB"
      },
      "outputs": [],
      "source": [
        "# Object Detection on the video using b_best.pt model.\n",
        "# This 28 seconds video contains 1618 frames(=images).\n",
        "\n",
        "!yolo task=detect mode=predict model=/content/b_best.pt conf=0.5 source = nba_vid.mp4 data=/Bigger-Dataset-2/data.yaml"
      ]
    },
    {
      "cell_type": "code",
      "execution_count": null,
      "metadata": {
        "id": "T_icZbw6GoNz"
      },
      "outputs": [],
      "source": [
        "# Object Detection on the video using s_best.pt model.\n",
        "# This 28 seconds video contains 1618 frames(=images).\n",
        "\n",
        "!yolo task=detect mode=predict model=/content/s_best.pt conf=0.5 source = nba_vid.mp4 data=/Basketball-Players-1/data.yaml"
      ]
    },
    {
      "cell_type": "code",
      "execution_count": null,
      "metadata": {
        "id": "tSrVePchObi6"
      },
      "outputs": [],
      "source": [
        "# Converting the video from avi to mp4 and showing the \"object detected\" version of the video,\n",
        "# Result of b_best.pt model.\n",
        "\n",
        "path=\"/content/runs/detect/predict3/nba_vid.avi\"\n",
        "\n",
        "clip=VideoFileClip(path)\n",
        "clip.ipython_display(width=860)"
      ]
    },
    {
      "cell_type": "code",
      "execution_count": null,
      "metadata": {
        "id": "RwNZW_wVPACV"
      },
      "outputs": [],
      "source": [
        "# Converting the video from avi to mp4 and showing the \"object detected\" version of the video,\n",
        "# Result of s_best.pt model.\n",
        "\n",
        "path=\"/content/runs/detect/predict4/nba_vid.avi\"\n",
        "\n",
        "clip=VideoFileClip(path)\n",
        "clip.ipython_display(width=860)"
      ]
    }
  ],
  "metadata": {
    "accelerator": "GPU",
    "colab": {
      "gpuType": "T4",
      "provenance": []
    },
    "kernelspec": {
      "display_name": "Python 3",
      "name": "python3"
    },
    "language_info": {
      "name": "python"
    }
  },
  "nbformat": 4,
  "nbformat_minor": 0
}