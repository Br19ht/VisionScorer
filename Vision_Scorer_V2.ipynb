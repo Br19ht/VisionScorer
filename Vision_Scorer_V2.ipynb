{
  "cells": [
    {
      "cell_type": "code",
      "execution_count": null,
      "metadata": {
        "id": "4zzAg0GVqiY8"
      },
      "outputs": [],
      "source": [
        "!nvidia-smi\n",
        "!pip install roboflow\n",
        "!pip install ultralytics\n",
        "from ultralytics import YOLO\n",
        "from roboflow import Roboflow\n",
        "import os, random\n",
        "from IPython.display import display, Image\n",
        "from IPython import display\n",
        "import ultralytics\n",
        "import glob\n",
        "from moviepy.editor import *\n",
        "display.clear_output()"
      ]
    },
    {
      "cell_type": "code",
      "execution_count": null,
      "metadata": {
        "id": "LyNodf6grscj"
      },
      "outputs": [],
      "source": [
        "rf = Roboflow(api_key=\"Ek2vKP2jbMY6qenMh678\")\n",
        "project = rf.workspace(\"visionscorer\").project(\"bigger-dataset\")\n",
        "version = project.version(2)\n",
        "dataset = version.download(\"yolov11\")\n",
        "display.clear_output()"
      ]
    },
    {
      "cell_type": "code",
      "source": [
        "rf = Roboflow(api_key=\"Ek2vKP2jbMY6qenMh678\")\n",
        "project = rf.workspace(\"visionscorer\").project(\"basketball-players-fy4c2-rzrjr\")\n",
        "version = project.version(1)\n",
        "dataset = version.download(\"yolov11\")\n",
        "display.clear_output()"
      ],
      "metadata": {
        "id": "t7Da4IQrB8gH"
      },
      "execution_count": null,
      "outputs": []
    },
    {
      "cell_type": "code",
      "source": [
        "'''\n",
        "\n",
        "# Uncomment this section, if you want to try finetuning your\n",
        "# own model with different settings, such as different epochs and imgsz\n",
        "\n",
        "# If you decide to do so, don't forget to change directory of the models on the coding blocks below.\n",
        "\n",
        "\n",
        "# Using smaller dataset ('Basketball-Players-1') with setting below took 5 minutes to run on Google Colab.\n",
        "!yolo task=detect mode=train model=yolo11n.pt data=/content/Basketball-Players-1/data.yaml epochs=100 imgsz=640\n",
        "\n",
        "# Using bigger dataset ('Bigger-Dataset-2') with setting below took 20 minutes to run on Google Colab.\n",
        "!yolo task=detect mode=train model=yolo11n.pt data=/content/Bigger-Dataset-2/data.yaml epochs=20 imgsz=640\n",
        "\n",
        "'''"
      ],
      "metadata": {
        "id": "GGc8fhw8RV6v"
      },
      "execution_count": null,
      "outputs": []
    },
    {
      "cell_type": "code",
      "source": [
        "# b_best: Epochs = 20, Image Size = 640\n",
        "!wget https://raw.githubusercontent.com/Br19ht/VisionScorer/main/b_best.pt\n",
        "# s_best: Epochs = 100, Image Size = 640\n",
        "!wget https://raw.githubusercontent.com/Br19ht/VisionScorer/main/s_best.pt"
      ],
      "metadata": {
        "id": "0sFyp2rGDO7C"
      },
      "execution_count": null,
      "outputs": []
    },
    {
      "cell_type": "code",
      "source": [
        "!yolo task=detect mode=val model=/content/b_best.pt data=/content/Bigger-Dataset-2/data.yaml"
      ],
      "metadata": {
        "id": "3wlpV8toETYS"
      },
      "execution_count": null,
      "outputs": []
    },
    {
      "cell_type": "code",
      "source": [
        "!yolo task=detect mode=val model=/content/s_best.pt data=/content/Basketball-Players-1/data.yaml"
      ],
      "metadata": {
        "id": "gwh97IwJEj0p"
      },
      "execution_count": null,
      "outputs": []
    },
    {
      "cell_type": "code",
      "execution_count": null,
      "metadata": {
        "id": "LYMjAdjvzGMv"
      },
      "outputs": [],
      "source": [
        "!yolo task=detect mode=predict model=/content/b_best.pt conf=0.5 source = /content/Bigger-Dataset-2/test/images data=/Bigger-Dataset-2/data.yaml\n",
        "display.clear_output()"
      ]
    },
    {
      "cell_type": "code",
      "source": [
        "!yolo task=detect mode=predict model=/content/s_best.pt conf=0.5 source = /content/Basketball-Players-1/test/images data=/Basketball-Players-1/data.yaml\n",
        "display.clear_output()"
      ],
      "metadata": {
        "id": "Epr25UwbFW_e"
      },
      "execution_count": null,
      "outputs": []
    },
    {
      "cell_type": "code",
      "execution_count": null,
      "metadata": {
        "id": "fADK-OTrzbuR"
      },
      "outputs": [],
      "source": [
        "from IPython.display import display, Image\n",
        "\n",
        "for i in range(10):\n",
        "    img_path = os.path.join('/content/runs/detect/predict/', random.choice(os.listdir('/content/runs/detect/predict/')))\n",
        "    display(Image(filename=img_path))\n",
        "    print(\"\\n\")"
      ]
    },
    {
      "cell_type": "code",
      "source": [
        "for i in range(10):\n",
        "    img_path = os.path.join('/content/runs/detect/predict2/', random.choice(os.listdir('/content/runs/detect/predict2/')))\n",
        "    display(Image(filename=img_path))\n",
        "    print(\"\\n\")"
      ],
      "metadata": {
        "id": "VzuV_7uxLE-L"
      },
      "execution_count": null,
      "outputs": []
    },
    {
      "cell_type": "code",
      "source": [
        "!wget https://raw.githubusercontent.com/Br19ht/VisionScorer/main/nba_vid.mp4"
      ],
      "metadata": {
        "id": "0DR5VNdoGSyb"
      },
      "execution_count": null,
      "outputs": []
    },
    {
      "cell_type": "code",
      "execution_count": null,
      "metadata": {
        "id": "_OOjB9wmjkwB"
      },
      "outputs": [],
      "source": [
        "from IPython import display\n",
        "!yolo task=detect mode=predict model=/content/b_best.pt conf=0.5 source = nba_vid.mp4 data=/Bigger-Dataset-2/data.yaml\n",
        "display.clear_output()"
      ]
    },
    {
      "cell_type": "code",
      "source": [
        "!yolo task=detect mode=predict model=/content/s_best.pt conf=0.5 source = nba_vid.mp4 data=/Basketball-Players-1/data.yaml\n",
        "display.clear_output()"
      ],
      "metadata": {
        "id": "T_icZbw6GoNz"
      },
      "execution_count": null,
      "outputs": []
    },
    {
      "cell_type": "code",
      "source": [
        "path=\"/content/runs/detect/predict3/nba_vid.avi\"\n",
        "\n",
        "clip=VideoFileClip(path)\n",
        "clip.ipython_display(width=860)"
      ],
      "metadata": {
        "id": "tSrVePchObi6"
      },
      "execution_count": null,
      "outputs": []
    },
    {
      "cell_type": "code",
      "source": [
        "path=\"/content/runs/detect/predict4/nba_vid.avi\"\n",
        "\n",
        "clip=VideoFileClip(path)\n",
        "clip.ipython_display(width=860)"
      ],
      "metadata": {
        "id": "RwNZW_wVPACV"
      },
      "execution_count": null,
      "outputs": []
    }
  ],
  "metadata": {
    "accelerator": "GPU",
    "colab": {
      "gpuType": "T4",
      "provenance": []
    },
    "kernelspec": {
      "display_name": "Python 3",
      "name": "python3"
    },
    "language_info": {
      "name": "python"
    }
  },
  "nbformat": 4,
  "nbformat_minor": 0
}